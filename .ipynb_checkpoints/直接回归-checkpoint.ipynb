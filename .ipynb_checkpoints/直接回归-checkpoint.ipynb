{
 "cells": [
  {
   "cell_type": "markdown",
   "id": "205f580f-8481-435c-98cd-b6f130874c24",
   "metadata": {},
   "source": [
    "### 数据网址：https://www.kaggle.com/competitions/GiveMeSomeCredit/overview"
   ]
  },
  {
   "cell_type": "code",
   "execution_count": 39,
   "id": "5f673ca7-3896-4550-a7f7-8060e65f5f5e",
   "metadata": {},
   "outputs": [],
   "source": [
    "import numpy as np\n",
    "import pandas as pd\n",
    "import matplotlib.pyplot as plt\n",
    "%matplotlib inline"
   ]
  },
  {
   "cell_type": "code",
   "execution_count": 40,
   "id": "cf37d1a6-ef5f-405c-82e7-5858ef8deaac",
   "metadata": {},
   "outputs": [
    {
     "data": {
      "text/html": [
       "<div>\n",
       "<style scoped>\n",
       "    .dataframe tbody tr th:only-of-type {\n",
       "        vertical-align: middle;\n",
       "    }\n",
       "\n",
       "    .dataframe tbody tr th {\n",
       "        vertical-align: top;\n",
       "    }\n",
       "\n",
       "    .dataframe thead th {\n",
       "        text-align: right;\n",
       "    }\n",
       "</style>\n",
       "<table border=\"1\" class=\"dataframe\">\n",
       "  <thead>\n",
       "    <tr style=\"text-align: right;\">\n",
       "      <th></th>\n",
       "      <th>SeriousDlqin2yrs</th>\n",
       "      <th>RevolvingUtilizationOfUnsecuredLines</th>\n",
       "      <th>age</th>\n",
       "      <th>NumberOfTime30-59DaysPastDueNotWorse</th>\n",
       "      <th>DebtRatio</th>\n",
       "      <th>MonthlyIncome</th>\n",
       "      <th>NumberOfOpenCreditLinesAndLoans</th>\n",
       "      <th>NumberOfTimes90DaysLate</th>\n",
       "      <th>NumberRealEstateLoansOrLines</th>\n",
       "      <th>NumberOfTime60-89DaysPastDueNotWorse</th>\n",
       "      <th>NumberOfDependents</th>\n",
       "    </tr>\n",
       "  </thead>\n",
       "  <tbody>\n",
       "    <tr>\n",
       "      <th>1</th>\n",
       "      <td>1</td>\n",
       "      <td>0.766127</td>\n",
       "      <td>45</td>\n",
       "      <td>2</td>\n",
       "      <td>0.802982</td>\n",
       "      <td>9120.0</td>\n",
       "      <td>13</td>\n",
       "      <td>0</td>\n",
       "      <td>6</td>\n",
       "      <td>0</td>\n",
       "      <td>2.0</td>\n",
       "    </tr>\n",
       "    <tr>\n",
       "      <th>2</th>\n",
       "      <td>0</td>\n",
       "      <td>0.957151</td>\n",
       "      <td>40</td>\n",
       "      <td>0</td>\n",
       "      <td>0.121876</td>\n",
       "      <td>2600.0</td>\n",
       "      <td>4</td>\n",
       "      <td>0</td>\n",
       "      <td>0</td>\n",
       "      <td>0</td>\n",
       "      <td>1.0</td>\n",
       "    </tr>\n",
       "    <tr>\n",
       "      <th>3</th>\n",
       "      <td>0</td>\n",
       "      <td>0.658180</td>\n",
       "      <td>38</td>\n",
       "      <td>1</td>\n",
       "      <td>0.085113</td>\n",
       "      <td>3042.0</td>\n",
       "      <td>2</td>\n",
       "      <td>1</td>\n",
       "      <td>0</td>\n",
       "      <td>0</td>\n",
       "      <td>0.0</td>\n",
       "    </tr>\n",
       "    <tr>\n",
       "      <th>4</th>\n",
       "      <td>0</td>\n",
       "      <td>0.233810</td>\n",
       "      <td>30</td>\n",
       "      <td>0</td>\n",
       "      <td>0.036050</td>\n",
       "      <td>3300.0</td>\n",
       "      <td>5</td>\n",
       "      <td>0</td>\n",
       "      <td>0</td>\n",
       "      <td>0</td>\n",
       "      <td>0.0</td>\n",
       "    </tr>\n",
       "    <tr>\n",
       "      <th>5</th>\n",
       "      <td>0</td>\n",
       "      <td>0.907239</td>\n",
       "      <td>49</td>\n",
       "      <td>1</td>\n",
       "      <td>0.024926</td>\n",
       "      <td>63588.0</td>\n",
       "      <td>7</td>\n",
       "      <td>0</td>\n",
       "      <td>1</td>\n",
       "      <td>0</td>\n",
       "      <td>0.0</td>\n",
       "    </tr>\n",
       "    <tr>\n",
       "      <th>6</th>\n",
       "      <td>0</td>\n",
       "      <td>0.213179</td>\n",
       "      <td>74</td>\n",
       "      <td>0</td>\n",
       "      <td>0.375607</td>\n",
       "      <td>3500.0</td>\n",
       "      <td>3</td>\n",
       "      <td>0</td>\n",
       "      <td>1</td>\n",
       "      <td>0</td>\n",
       "      <td>1.0</td>\n",
       "    </tr>\n",
       "    <tr>\n",
       "      <th>7</th>\n",
       "      <td>0</td>\n",
       "      <td>0.305682</td>\n",
       "      <td>57</td>\n",
       "      <td>0</td>\n",
       "      <td>5710.000000</td>\n",
       "      <td>NaN</td>\n",
       "      <td>8</td>\n",
       "      <td>0</td>\n",
       "      <td>3</td>\n",
       "      <td>0</td>\n",
       "      <td>0.0</td>\n",
       "    </tr>\n",
       "    <tr>\n",
       "      <th>8</th>\n",
       "      <td>0</td>\n",
       "      <td>0.754464</td>\n",
       "      <td>39</td>\n",
       "      <td>0</td>\n",
       "      <td>0.209940</td>\n",
       "      <td>3500.0</td>\n",
       "      <td>8</td>\n",
       "      <td>0</td>\n",
       "      <td>0</td>\n",
       "      <td>0</td>\n",
       "      <td>0.0</td>\n",
       "    </tr>\n",
       "    <tr>\n",
       "      <th>9</th>\n",
       "      <td>0</td>\n",
       "      <td>0.116951</td>\n",
       "      <td>27</td>\n",
       "      <td>0</td>\n",
       "      <td>46.000000</td>\n",
       "      <td>NaN</td>\n",
       "      <td>2</td>\n",
       "      <td>0</td>\n",
       "      <td>0</td>\n",
       "      <td>0</td>\n",
       "      <td>NaN</td>\n",
       "    </tr>\n",
       "    <tr>\n",
       "      <th>10</th>\n",
       "      <td>0</td>\n",
       "      <td>0.189169</td>\n",
       "      <td>57</td>\n",
       "      <td>0</td>\n",
       "      <td>0.606291</td>\n",
       "      <td>23684.0</td>\n",
       "      <td>9</td>\n",
       "      <td>0</td>\n",
       "      <td>4</td>\n",
       "      <td>0</td>\n",
       "      <td>2.0</td>\n",
       "    </tr>\n",
       "  </tbody>\n",
       "</table>\n",
       "</div>"
      ],
      "text/plain": [
       "    SeriousDlqin2yrs  RevolvingUtilizationOfUnsecuredLines  age  \\\n",
       "1                  1                              0.766127   45   \n",
       "2                  0                              0.957151   40   \n",
       "3                  0                              0.658180   38   \n",
       "4                  0                              0.233810   30   \n",
       "5                  0                              0.907239   49   \n",
       "6                  0                              0.213179   74   \n",
       "7                  0                              0.305682   57   \n",
       "8                  0                              0.754464   39   \n",
       "9                  0                              0.116951   27   \n",
       "10                 0                              0.189169   57   \n",
       "\n",
       "    NumberOfTime30-59DaysPastDueNotWorse    DebtRatio  MonthlyIncome  \\\n",
       "1                                      2     0.802982         9120.0   \n",
       "2                                      0     0.121876         2600.0   \n",
       "3                                      1     0.085113         3042.0   \n",
       "4                                      0     0.036050         3300.0   \n",
       "5                                      1     0.024926        63588.0   \n",
       "6                                      0     0.375607         3500.0   \n",
       "7                                      0  5710.000000            NaN   \n",
       "8                                      0     0.209940         3500.0   \n",
       "9                                      0    46.000000            NaN   \n",
       "10                                     0     0.606291        23684.0   \n",
       "\n",
       "    NumberOfOpenCreditLinesAndLoans  NumberOfTimes90DaysLate  \\\n",
       "1                                13                        0   \n",
       "2                                 4                        0   \n",
       "3                                 2                        1   \n",
       "4                                 5                        0   \n",
       "5                                 7                        0   \n",
       "6                                 3                        0   \n",
       "7                                 8                        0   \n",
       "8                                 8                        0   \n",
       "9                                 2                        0   \n",
       "10                                9                        0   \n",
       "\n",
       "    NumberRealEstateLoansOrLines  NumberOfTime60-89DaysPastDueNotWorse  \\\n",
       "1                              6                                     0   \n",
       "2                              0                                     0   \n",
       "3                              0                                     0   \n",
       "4                              0                                     0   \n",
       "5                              1                                     0   \n",
       "6                              1                                     0   \n",
       "7                              3                                     0   \n",
       "8                              0                                     0   \n",
       "9                              0                                     0   \n",
       "10                             4                                     0   \n",
       "\n",
       "    NumberOfDependents  \n",
       "1                  2.0  \n",
       "2                  1.0  \n",
       "3                  0.0  \n",
       "4                  0.0  \n",
       "5                  0.0  \n",
       "6                  1.0  \n",
       "7                  0.0  \n",
       "8                  0.0  \n",
       "9                  NaN  \n",
       "10                 2.0  "
      ]
     },
     "execution_count": 40,
     "metadata": {},
     "output_type": "execute_result"
    }
   ],
   "source": [
    "training=pd.read_csv('/Users/chensisi/Desktop/kaggle-give me some credit/cs-training.csv',index_col=0)\n",
    "training.head(10)"
   ]
  },
  {
   "cell_type": "code",
   "execution_count": 41,
   "id": "ceb1f451-416c-42ed-9e76-fa58d354c763",
   "metadata": {},
   "outputs": [
    {
     "data": {
      "text/plain": [
       "SeriousDlqin2yrs                            0\n",
       "RevolvingUtilizationOfUnsecuredLines        0\n",
       "age                                         0\n",
       "NumberOfTime30-59DaysPastDueNotWorse        0\n",
       "DebtRatio                                   0\n",
       "MonthlyIncome                           29731\n",
       "NumberOfOpenCreditLinesAndLoans             0\n",
       "NumberOfTimes90DaysLate                     0\n",
       "NumberRealEstateLoansOrLines                0\n",
       "NumberOfTime60-89DaysPastDueNotWorse        0\n",
       "NumberOfDependents                       3924\n",
       "dtype: int64"
      ]
     },
     "execution_count": 41,
     "metadata": {},
     "output_type": "execute_result"
    }
   ],
   "source": [
    "training.isnull().sum()"
   ]
  },
  {
   "cell_type": "code",
   "execution_count": 42,
   "id": "cd7f230a-aef3-4875-b64e-c6be6f67dd9a",
   "metadata": {},
   "outputs": [],
   "source": [
    "training = training.dropna()"
   ]
  },
  {
   "cell_type": "code",
   "execution_count": 43,
   "id": "7f04904b-8f89-4c0c-bda7-a53b0da6440a",
   "metadata": {},
   "outputs": [
    {
     "data": {
      "text/plain": [
       "SeriousDlqin2yrs                        0\n",
       "RevolvingUtilizationOfUnsecuredLines    0\n",
       "age                                     0\n",
       "NumberOfTime30-59DaysPastDueNotWorse    0\n",
       "DebtRatio                               0\n",
       "MonthlyIncome                           0\n",
       "NumberOfOpenCreditLinesAndLoans         0\n",
       "NumberOfTimes90DaysLate                 0\n",
       "NumberRealEstateLoansOrLines            0\n",
       "NumberOfTime60-89DaysPastDueNotWorse    0\n",
       "NumberOfDependents                      0\n",
       "dtype: int64"
      ]
     },
     "execution_count": 43,
     "metadata": {},
     "output_type": "execute_result"
    }
   ],
   "source": [
    "training.isnull().sum()"
   ]
  },
  {
   "cell_type": "code",
   "execution_count": 44,
   "id": "92a55606-43c0-4171-af8b-9cf13e0c61a6",
   "metadata": {},
   "outputs": [],
   "source": [
    "training = training[training['age'] > 0]"
   ]
  },
  {
   "cell_type": "code",
   "execution_count": 45,
   "id": "efdaa008-a513-4dee-8290-0a3c2d1ba045",
   "metadata": {},
   "outputs": [],
   "source": [
    "for col in training:\n",
    "    if col == 'SeriousDlqin2yrs':  # 跳过目标变量\n",
    "        continue\n",
    "    mean = training[col].mean()\n",
    "    std = training[col].std()\n",
    "    lower = mean - 3 * std\n",
    "    upper = mean + 3 * std\n",
    "    training[col] = training[col].clip(lower=lower, upper=upper)"
   ]
  },
  {
   "cell_type": "code",
   "execution_count": 46,
   "id": "0859cc0b-07f7-4050-ab7c-ac2f166e0ae3",
   "metadata": {},
   "outputs": [],
   "source": [
    "X = training.drop(columns=['SeriousDlqin2yrs'])\n",
    "y = training['SeriousDlqin2yrs']"
   ]
  },
  {
   "cell_type": "code",
   "execution_count": 47,
   "id": "cf34d223-339b-4879-b359-8d4d407a7a6b",
   "metadata": {},
   "outputs": [],
   "source": [
    "from sklearn.model_selection import train_test_split\n",
    "\n",
    "X_train, X_test, y_train, y_test = train_test_split(\n",
    "    X, y,\n",
    "    test_size=0.2,        # 20% 测试集\n",
    "    random_state=42,      # 保证可重复性\n",
    "    stratify=y            # 分类任务建议 stratify，保持目标变量 y 在训练集和测试集中的类别分布一致\n",
    ")\n"
   ]
  },
  {
   "cell_type": "code",
   "execution_count": 48,
   "id": "5b85a6e6-cbab-4a23-bca1-eca89b607e0b",
   "metadata": {},
   "outputs": [
    {
     "name": "stdout",
     "output_type": "stream",
     "text": [
      "训练集样本数: 96214\n",
      "测试集样本数: 24054\n",
      "训练集标签分布:\n",
      " SeriousDlqin2yrs\n",
      "0    0.930509\n",
      "1    0.069491\n",
      "Name: proportion, dtype: float64\n",
      "测试集标签分布:\n",
      " SeriousDlqin2yrs\n",
      "0    0.930531\n",
      "1    0.069469\n",
      "Name: proportion, dtype: float64\n"
     ]
    }
   ],
   "source": [
    "print(\"训练集样本数:\", len(X_train))\n",
    "print(\"测试集样本数:\", len(X_test))\n",
    "print(\"训练集标签分布:\\n\", y_train.value_counts(normalize=True))\n",
    "print(\"测试集标签分布:\\n\", y_test.value_counts(normalize=True))"
   ]
  },
  {
   "cell_type": "markdown",
   "id": "4c8c7f2e-3cf7-44d9-a899-6aecbdb29d22",
   "metadata": {},
   "source": [
    "## 方法一:LogisticRegression"
   ]
  },
  {
   "cell_type": "code",
   "execution_count": 17,
   "id": "04e413b8-5c81-4c09-9743-b4276d40382e",
   "metadata": {},
   "outputs": [
    {
     "name": "stdout",
     "output_type": "stream",
     "text": [
      "分类报告：\n",
      "              precision    recall  f1-score   support\n",
      "\n",
      "           0       0.97      0.87      0.91     22383\n",
      "           1       0.25      0.60      0.35      1671\n",
      "\n",
      "    accuracy                           0.85     24054\n",
      "   macro avg       0.61      0.73      0.63     24054\n",
      "weighted avg       0.92      0.85      0.87     24054\n",
      "\n",
      "混淆矩阵：\n",
      "[[19375  3008]\n",
      " [  663  1008]]\n",
      "AUC 分数： 0.7975197070380715\n"
     ]
    }
   ],
   "source": [
    "from sklearn.linear_model import LogisticRegression\n",
    "from sklearn.metrics import classification_report, roc_auc_score, confusion_matrix\n",
    "\n",
    "# 建立并训练模型\n",
    "model = LogisticRegression(max_iter=5000,class_weight='balanced')\n",
    "model.fit(X_train, y_train)\n",
    "\n",
    "# 模型预测\n",
    "y_pred = model.predict(X_test)\n",
    "y_prob = model.predict_proba(X_test)[:, 1]  # 得到预测概率\n",
    "\n",
    "# 模型评估\n",
    "print(\"分类报告：\")\n",
    "print(classification_report(y_test, y_pred))\n",
    "\n",
    "print(\"混淆矩阵：\")\n",
    "print(confusion_matrix(y_test, y_pred))\n",
    "\n",
    "print(\"AUC 分数：\", roc_auc_score(y_test, y_prob))"
   ]
  },
  {
   "cell_type": "code",
   "execution_count": 16,
   "id": "6f3dc727-2283-4538-9d65-014572735a0b",
   "metadata": {},
   "outputs": [
    {
     "data": {
      "text/plain": [
       "SeriousDlqin2yrs\n",
       "0    111911\n",
       "1      8357\n",
       "Name: count, dtype: int64"
      ]
     },
     "execution_count": 16,
     "metadata": {},
     "output_type": "execute_result"
    }
   ],
   "source": [
    "training['SeriousDlqin2yrs'].value_counts()"
   ]
  },
  {
   "cell_type": "code",
   "execution_count": 18,
   "id": "2d0ab308-57f8-470a-8cba-9b988947f597",
   "metadata": {},
   "outputs": [
    {
     "data": {
      "text/html": [
       "<div>\n",
       "<style scoped>\n",
       "    .dataframe tbody tr th:only-of-type {\n",
       "        vertical-align: middle;\n",
       "    }\n",
       "\n",
       "    .dataframe tbody tr th {\n",
       "        vertical-align: top;\n",
       "    }\n",
       "\n",
       "    .dataframe thead th {\n",
       "        text-align: right;\n",
       "    }\n",
       "</style>\n",
       "<table border=\"1\" class=\"dataframe\">\n",
       "  <thead>\n",
       "    <tr style=\"text-align: right;\">\n",
       "      <th></th>\n",
       "      <th>Actual</th>\n",
       "      <th>PredictedProb</th>\n",
       "    </tr>\n",
       "  </thead>\n",
       "  <tbody>\n",
       "    <tr>\n",
       "      <th>0</th>\n",
       "      <td>0</td>\n",
       "      <td>0.342928</td>\n",
       "    </tr>\n",
       "    <tr>\n",
       "      <th>1</th>\n",
       "      <td>0</td>\n",
       "      <td>0.157425</td>\n",
       "    </tr>\n",
       "    <tr>\n",
       "      <th>2</th>\n",
       "      <td>0</td>\n",
       "      <td>0.273705</td>\n",
       "    </tr>\n",
       "    <tr>\n",
       "      <th>3</th>\n",
       "      <td>0</td>\n",
       "      <td>0.977789</td>\n",
       "    </tr>\n",
       "    <tr>\n",
       "      <th>4</th>\n",
       "      <td>0</td>\n",
       "      <td>0.161437</td>\n",
       "    </tr>\n",
       "  </tbody>\n",
       "</table>\n",
       "</div>"
      ],
      "text/plain": [
       "   Actual  PredictedProb\n",
       "0       0       0.342928\n",
       "1       0       0.157425\n",
       "2       0       0.273705\n",
       "3       0       0.977789\n",
       "4       0       0.161437"
      ]
     },
     "execution_count": 18,
     "metadata": {},
     "output_type": "execute_result"
    }
   ],
   "source": [
    "# 将测试集的预测概率与真实标签拼接\n",
    "import pandas as pd\n",
    "\n",
    "output = pd.DataFrame({\n",
    "    'Actual': y_test.values,\n",
    "    'PredictedProb': y_prob\n",
    "})\n",
    "output.head()"
   ]
  },
  {
   "cell_type": "code",
   "execution_count": 19,
   "id": "1de40035-0ce2-4945-8d7d-3d8d7a8295bf",
   "metadata": {},
   "outputs": [
    {
     "data": {
      "text/html": [
       "<div>\n",
       "<style scoped>\n",
       "    .dataframe tbody tr th:only-of-type {\n",
       "        vertical-align: middle;\n",
       "    }\n",
       "\n",
       "    .dataframe tbody tr th {\n",
       "        vertical-align: top;\n",
       "    }\n",
       "\n",
       "    .dataframe thead th {\n",
       "        text-align: right;\n",
       "    }\n",
       "</style>\n",
       "<table border=\"1\" class=\"dataframe\">\n",
       "  <thead>\n",
       "    <tr style=\"text-align: right;\">\n",
       "      <th></th>\n",
       "      <th>Actual</th>\n",
       "      <th>PredictedProb</th>\n",
       "      <th>Score</th>\n",
       "    </tr>\n",
       "  </thead>\n",
       "  <tbody>\n",
       "    <tr>\n",
       "      <th>0</th>\n",
       "      <td>0</td>\n",
       "      <td>0.342928</td>\n",
       "      <td>431.0</td>\n",
       "    </tr>\n",
       "    <tr>\n",
       "      <th>1</th>\n",
       "      <td>0</td>\n",
       "      <td>0.157425</td>\n",
       "      <td>505.0</td>\n",
       "    </tr>\n",
       "    <tr>\n",
       "      <th>2</th>\n",
       "      <td>0</td>\n",
       "      <td>0.273705</td>\n",
       "      <td>454.0</td>\n",
       "    </tr>\n",
       "    <tr>\n",
       "      <th>3</th>\n",
       "      <td>0</td>\n",
       "      <td>0.977789</td>\n",
       "      <td>111.0</td>\n",
       "    </tr>\n",
       "    <tr>\n",
       "      <th>4</th>\n",
       "      <td>0</td>\n",
       "      <td>0.161437</td>\n",
       "      <td>503.0</td>\n",
       "    </tr>\n",
       "  </tbody>\n",
       "</table>\n",
       "</div>"
      ],
      "text/plain": [
       "   Actual  PredictedProb  Score\n",
       "0       0       0.342928  431.0\n",
       "1       0       0.157425  505.0\n",
       "2       0       0.273705  454.0\n",
       "3       0       0.977789  111.0\n",
       "4       0       0.161437  503.0"
      ]
     },
     "execution_count": 19,
     "metadata": {},
     "output_type": "execute_result"
    }
   ],
   "source": [
    "import numpy as np\n",
    "\n",
    "# 概率转为 odds\n",
    "output['Odds'] = output['PredictedProb'] / (1 - output['PredictedProb'])\n",
    "\n",
    "# 设定评分参数\n",
    "PDO = 50\n",
    "BaseScore = 600\n",
    "BaseOdds = 1 / 20  # 假设初始 odds=1:20（违约率≈4.76%）\n",
    "\n",
    "# 计算评分\n",
    "output['Score'] = BaseScore - PDO * np.log(output['Odds'] / BaseOdds) / np.log(2)\n",
    "output['Score'] = output['Score'].round(0)  # 四舍五入为整数\n",
    "\n",
    "output[['Actual', 'PredictedProb', 'Score']].head()"
   ]
  },
  {
   "cell_type": "code",
   "execution_count": 20,
   "id": "a25d2518-9e04-4e62-bd92-cb775fffa42f",
   "metadata": {},
   "outputs": [],
   "source": [
    "output.to_csv('logistic_score_output.csv', index=False)"
   ]
  },
  {
   "cell_type": "code",
   "execution_count": 25,
   "id": "56d53e6e-8582-4f95-bbc8-0b8924277b76",
   "metadata": {},
   "outputs": [
    {
     "data": {
      "image/png": "[encoded data removed]",
      "text/plain": [
       "<Figure size 640x480 with 1 Axes>"
      ]
     },
     "metadata": {},
     "output_type": "display_data"
    }
   ],
   "source": [
    "from sklearn.metrics import roc_curve\n",
    "import numpy as np\n",
    "plt.rcParams['font.sans-serif']='STHeiti'\n",
    "\n",
    "fpr, tpr, thresholds = roc_curve(output['Actual'], output['PredictedProb'])\n",
    "ks = max(tpr - fpr)\n",
    "\n",
    "plt.plot(thresholds, tpr - fpr)\n",
    "plt.title(f'KS 曲线 (KS值 = {ks:.3f})')\n",
    "plt.xlabel('分数阈值')\n",
    "plt.ylabel('TPR - FPR')\n",
    "plt.grid(True)\n",
    "plt.show()"
   ]
  },
  {
   "cell_type": "markdown",
   "id": "47cc886a-dc2d-4ab1-b615-82f07453ad36",
   "metadata": {},
   "source": [
    "## 方法二：随机森林模型"
   ]
  },
  {
   "cell_type": "code",
   "execution_count": 53,
   "id": "4a501baa-0931-43f2-94eb-89d99df70970",
   "metadata": {},
   "outputs": [
    {
     "name": "stdout",
     "output_type": "stream",
     "text": [
      "【随机森林】分类报告：\n",
      "              precision    recall  f1-score   support\n",
      "\n",
      "           0       0.94      0.99      0.96     22383\n",
      "           1       0.51      0.14      0.22      1671\n",
      "\n",
      "    accuracy                           0.93     24054\n",
      "   macro avg       0.72      0.57      0.59     24054\n",
      "weighted avg       0.91      0.93      0.91     24054\n",
      "\n",
      "混淆矩阵：\n",
      "[[22155   228]\n",
      " [ 1435   236]]\n",
      "AUC 分数： 0.8195671685196027\n"
     ]
    }
   ],
   "source": [
    "from sklearn.ensemble import RandomForestClassifier\n",
    "from sklearn.metrics import classification_report, roc_auc_score, confusion_matrix\n",
    "\n",
    "# 建立模型（处理不平衡）\n",
    "rf_model = RandomForestClassifier(\n",
    "    n_estimators=100,            # 树的数量\n",
    "    max_depth=None,              # 默认不限制深度\n",
    "    class_weight='balanced',     # 自动处理类别不平衡\n",
    "    random_state=42,\n",
    "    n_jobs=-1                    # 多线程加速\n",
    ")\n",
    "\n",
    "# 模型训练\n",
    "rf_model.fit(X_train, y_train)\n",
    "\n",
    "y_pred_rf = rf_model.predict(X_test)\n",
    "y_prob_rf = rf_model.predict_proba(X_test)[:, 1]  # 预测违约概率\n",
    "\n",
    "# 评估结果\n",
    "print(\"【随机森林】分类报告：\")\n",
    "print(classification_report(y_test, y_pred_rf))\n",
    "print(\"混淆矩阵：\")\n",
    "print(confusion_matrix(y_test, y_pred_rf))\n",
    "print(\"AUC 分数：\", roc_auc_score(y_test, y_prob_rf))\n"
   ]
  },
  {
   "cell_type": "code",
   "execution_count": 38,
   "id": "5a6c12cc-6017-4dfd-8484-ae4fad0a53d1",
   "metadata": {},
   "outputs": [
    {
     "data": {
      "image/png": "[encoded data removed]",
      "text/plain": [
       "<Figure size 640x480 with 1 Axes>"
      ]
     },
     "metadata": {},
     "output_type": "display_data"
    }
   ],
   "source": [
    "import pandas as pd\n",
    "import matplotlib.pyplot as plt\n",
    "\n",
    "feature_importance = pd.Series(rf_model.feature_importances_, index=X_train.columns)\n",
    "feature_importance.sort_values(ascending=False).head(10).plot(kind='barh')\n",
    "plt.title(\"随机森林前10重要变量\")\n",
    "plt.gca().invert_yaxis()\n",
    "plt.grid(True)\n",
    "plt.show()\n"
   ]
  },
  {
   "cell_type": "markdown",
   "id": "75f0251d-42af-41bd-ac31-a58823dd6472",
   "metadata": {},
   "source": [
    "## 完整的 GridSearchCV 随机森林调参示例"
   ]
  },
  {
   "cell_type": "code",
   "execution_count": 49,
   "id": "4e45fd1f-feca-4a8f-a3d3-5627f5f97811",
   "metadata": {},
   "outputs": [],
   "source": [
    "from sklearn.ensemble import RandomForestClassifier\n",
    "from sklearn.model_selection import GridSearchCV, StratifiedKFold\n",
    "from sklearn.metrics import classification_report, roc_auc_score, confusion_matrix\n",
    "\n",
    "# 参数网格\n",
    "param_grid = {\n",
    "    'n_estimators': [100, 200],\n",
    "    'max_depth': [10, 20, None],\n",
    "    'min_samples_leaf': [1, 5, 10],\n",
    "    'min_samples_split': [2, 10],\n",
    "    'max_features': ['sqrt'],\n",
    "    'class_weight': ['balanced']\n",
    "}\n",
    "\n",
    "# 10 折分层交叉验证\n",
    "cv = StratifiedKFold(n_splits=10, shuffle=True, random_state=42)\n"
   ]
  },
  {
   "cell_type": "code",
   "execution_count": 51,
   "id": "69434c2f-3e7c-4fc9-ab9d-f47de35682c2",
   "metadata": {},
   "outputs": [],
   "source": [
    "# 建立随机森林模型\n",
    "rf = RandomForestClassifier(random_state=42, n_jobs=-1)\n",
    "\n",
    "# 网格搜索\n",
    "grid = GridSearchCV(\n",
    "    estimator=rf,\n",
    "    param_grid=param_grid,\n",
    "    scoring='roc_auc',\n",
    "    cv=cv,\n",
    "    n_jobs=-1,\n",
    "    verbose=2\n",
    ")\n",
    "\n",
    "# 训练模型\n",
    "grid.fit(X_train, y_train)\n",
    "\n",
    "# 输出最佳参数和得分\n",
    "print(\"最佳参数：\", grid.best_params_)\n",
    "print(\"最佳AUC（交叉验证）得分：\", grid.best_score_)\n"
   ]
  },
  {
   "cell_type": "code",
   "execution_count": null,
   "id": "b05cf103-9725-4746-be33-b9cfdc955ceb",
   "metadata": {},
   "outputs": [],
   "source": [
    "best_rf = grid.best_estimator_\n",
    "\n",
    "y_pred = best_rf.predict(X_test)\n",
    "y_prob = best_rf.predict_proba(X_test)[:, 1]\n",
    "\n",
    "print(\"【测试集评估】\")\n",
    "print(\"分类报告：\\n\", classification_report(y_test, y_pred))\n",
    "print(\"混淆矩阵：\\n\", confusion_matrix(y_test, y_pred))\n",
    "print(\"AUC：\", roc_auc_score(y_test, y_prob))"
   ]
  },
  {
   "cell_type": "code",
   "execution_count": null,
   "id": "0e45275d-6df1-4fb0-a4fd-c584d373947b",
   "metadata": {},
   "outputs": [],
   "source": []
  }
 ],
 "metadata": {
  "kernelspec": {
   "display_name": "Python 3 (ipykernel)",
   "language": "python",
   "name": "python3"
  },
  "language_info": {
   "codemirror_mode": {
    "name": "ipython",
    "version": 3
   },
   "file_extension": ".py",
   "mimetype": "text/x-python",
   "name": "python",
   "nbconvert_exporter": "python",
   "pygments_lexer": "ipython3",
   "version": "3.9.6"
  }
 },
 "nbformat": 4,
 "nbformat_minor": 5
}
